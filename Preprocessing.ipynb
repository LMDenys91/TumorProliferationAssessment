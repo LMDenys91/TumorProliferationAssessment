{
 "cells": [
  {
   "cell_type": "code",
   "execution_count": null,
   "metadata": {
    "collapsed": false
   },
   "outputs": [],
   "source": [
    "import openslide as ops\n",
    "import numpy as np\n",
    "from PIL import Image\n",
    "import os\n",
    "import matplotlib.pyplot as plt\n",
    "import matplotlib.patches as plp\n",
    "import matplotlib.image as mpimg\n",
    "import mpld3\n",
    "#mpld3.enable_notebook()\n",
    "import pickle\n",
    "import boto3\n",
    "import pandas as pd\n",
    "from scipy import stats, integrate\n",
    "import seaborn as sns\n",
    "import cv2\n",
    "import math\n",
    "import heapq\n",
    "import sys\n",
    "import scandir\n",
    "import datetime"
   ]
  },
  {
   "cell_type": "code",
   "execution_count": null,
   "metadata": {
    "collapsed": false
   },
   "outputs": [],
   "source": [
    "def download_dir(client, resource, amountOfFiles=False, local='../example_images', bucket='tupac.image.bucket'):\n",
    "    paginator = client.get_paginator('list_objects')\n",
    "    bad_ids = ['002', '045', '091', '112', '205', '242', '256', '280', '313', '329', '467']\n",
    "    for result in paginator.paginate(Bucket=bucket, PaginationConfig={'MaxItems': amountOfFiles}):\n",
    "        if result.get('CommonPrefixes') is not None:\n",
    "            for subdir in result.get('CommonPrefixes'):\n",
    "                download_dir(client, resource, subdir.get('Prefix'), amountOfFiles, local)\n",
    "        if result.get('Contents') is not None:\n",
    "            for file in result.get('Contents'):\n",
    "                new_name = file.get('Key')[9:]\n",
    "                if not new_name[:3] in bad_ids:\n",
    "                    if not os.path.exists(os.path.dirname(local + os.sep + new_name[:-4] + os.sep + new_name)):\n",
    "                        os.makedirs(os.path.dirname(local + os.sep + new_name[:-4] + os.sep + new_name))\n",
    "                    if (file.get('Key')[:9] == 'TUPAC-TR-'):\n",
    "                        resource.meta.client.download_file(bucket, file.get('Key'), local\n",
    "                                                       + os.sep + new_name[:-4] + os.sep + new_name)\n",
    "                        print('Downloaded file: {0}'.format(new_name))"
   ]
  },
  {
   "cell_type": "code",
   "execution_count": null,
   "metadata": {
    "collapsed": false
   },
   "outputs": [],
   "source": [
    "print os.listdir('../example_images')\n",
    "client = boto3.client('s3')\n",
    "resource = boto3.resource('s3')\n",
    "#download_dir(client, resource, 10)"
   ]
  },
  {
   "cell_type": "code",
   "execution_count": null,
   "metadata": {
    "collapsed": false
   },
   "outputs": [],
   "source": [
    "# The eventual patch size will actually be 512, but with overlap of 256\n",
    "def sumPixelsInPatch(image, stride=256):\n",
    "    height, width, channels = image.shape\n",
    "    new_height = int(math.ceil(float(height)/float(stride)))\n",
    "    new_width = int(math.ceil(float(width)/float(stride)))\n",
    "    new_image = np.ndarray(shape = (new_height, new_width, channels), dtype = int)\n",
    "    for i in range(0, new_height):\n",
    "        for j in range(0, new_width):\n",
    "            idx = min(stride*i, height-stride)\n",
    "            idy = min(stride*j, width-stride)\n",
    "            new_image[i,j,:] = np.sum(image[idx:idx+stride, idy:idy+stride,:])\n",
    "    return new_image"
   ]
  },
  {
   "cell_type": "code",
   "execution_count": null,
   "metadata": {
    "collapsed": true
   },
   "outputs": [],
   "source": [
    "# Class to hold the patch coordinates and density\n",
    "class Patch(object):\n",
    "    def __init__(self, x=0, y=0, density=0):\n",
    "        self.x = x\n",
    "        self.y = y\n",
    "        self.density = density\n",
    "    def __gt__(self, patch2):\n",
    "        return self.density > patch2.density\n",
    "    def __str__(self):\n",
    "        return str([(self.x, self.y), self.density])\n",
    "    def __repr__(self):\n",
    "        return self.__str__()"
   ]
  },
  {
   "cell_type": "code",
   "execution_count": null,
   "metadata": {
    "collapsed": true
   },
   "outputs": [],
   "source": [
    "# Returns the minimum Manhattan distance between all items in the heap and the coord. Returns smallest distance and the corresponding element.\n",
    "def mdist(patches, new_patch):\n",
    "    min_dist = sys.maxint\n",
    "    for i in range(0, len(patches)):\n",
    "        patch = patches[i]\n",
    "        dist = abs(patch.x-new_patch.x)+abs(patch.y-new_patch.y)\n",
    "        if dist < min_dist:\n",
    "            min_dist = dist\n",
    "            closest_patch_id = i\n",
    "    return min_dist, closest_patch_id"
   ]
  },
  {
   "cell_type": "code",
   "execution_count": null,
   "metadata": {
    "collapsed": true
   },
   "outputs": [],
   "source": [
    "# Store the densest patches in a min heap, check that they're at least a dist_th Manhattan distance away from all others\n",
    "# Now just sorting, because heapq doesn't offer replace functionality. Should probably implement my own min heap.\n",
    "def findKDensestPatches(image, k=10, dist_th = 4):\n",
    "    height, width, channels = image.shape\n",
    "    p = []\n",
    "    pad_h = height/20 #padding to ignore patches close to borders (they often have shadows on them)\n",
    "    pad_w = width/20 \n",
    "    for i in range(pad_h, height-1-pad_h):\n",
    "        for j in range(pad_w, width-1-pad_w):\n",
    "            density = np.sum(image[i:i+1,j:j+1,:])\n",
    "            patch =  Patch(i, j, density)\n",
    "            if len(p)<k: # Populate the list with the first 10 patches\n",
    "                p.append(patch)\n",
    "                p.sort()\n",
    "            elif p[0].density < density: # This patch's density is higher than the min density in the list\n",
    "                dist, closest_patch_id = mdist(p, patch)\n",
    "                if dist < dist_th and p[closest_patch_id].density < density: # Replace the closest patch with this patch\n",
    "                    p[closest_patch_id]=patch\n",
    "                    p.sort()\n",
    "                elif dist > dist_th: # Push this patch and pop the one with min density\n",
    "                    p[0]=patch\n",
    "                    p.sort()\n",
    "    return p"
   ]
  },
  {
   "cell_type": "code",
   "execution_count": null,
   "metadata": {
    "collapsed": true
   },
   "outputs": [],
   "source": [
    "def getROICoords(densestPatches, stride=256):\n",
    "    coords = []\n",
    "    for patch in densestPatches:\n",
    "        coords.append([patch.x*stride, patch.y*stride])\n",
    "    return coords"
   ]
  },
  {
   "cell_type": "code",
   "execution_count": null,
   "metadata": {
    "collapsed": true
   },
   "outputs": [],
   "source": [
    "%matplotlib inline\n",
    "def plotIntermediaryResults(sum_arr, wsi_med, selected_region):\n",
    "    fig = plt.figure()\n",
    "    fig.set_size_inches(20,20)\n",
    "    a=fig.add_subplot(1,3,1)\n",
    "    imgplot = plt.imshow(sum_arr)\n",
    "    a.set_title('Sum Array')\n",
    "    a=fig.add_subplot(1,3,2)\n",
    "    imgplot = plt.imshow(wsi_med)\n",
    "    a.set_title('WSI')\n",
    "    a=fig.add_subplot(1,3,3)\n",
    "    imgplot = plt.imshow(selected_region)\n",
    "    a.set_title('Selected region')"
   ]
  },
  {
   "cell_type": "code",
   "execution_count": null,
   "metadata": {
    "collapsed": true
   },
   "outputs": [],
   "source": [
    "def plotROIs(slide, coords):\n",
    "    # Create figure and axes\n",
    "    fig,ax = plt.subplots(1)\n",
    "    fig.set_size_inches(10,10)\n",
    "    # Display the image\n",
    "    wsi_med = slide.read_region((0, 0), 2, slide.level_dimensions[2])\n",
    "    ax.imshow(wsi_med)\n",
    "    height = int(math.ceil(float(1024)/float(slide.level_downsamples[2])))\n",
    "    #print height, arr_med.shape\n",
    "\n",
    "    for coord in coords:\n",
    "        #print coord\n",
    "        # Create a Rectangle patch\n",
    "        x  = int(math.ceil(float(coord[1])/float(slide.level_downsamples[2])))\n",
    "        y = int(math.ceil(float(coord[0])/float(slide.level_downsamples[2])))\n",
    "        rect = plp.Rectangle((x, y),height,height,linewidth=2,edgecolor='g',facecolor='g', fill=False)\n",
    "        # Add the patch to the Axes\n",
    "        ax.add_patch(rect)\n",
    "\n",
    "    plt.show()"
   ]
  },
  {
   "cell_type": "code",
   "execution_count": null,
   "metadata": {
    "collapsed": false
   },
   "outputs": [],
   "source": [
    "def preprocess(from_dir, debug=False):\n",
    "    print('-'*90)\n",
    "    print('Preprocessing slides from {0} at {1} ...'.format(from_dir, datetime.datetime.utcnow()))\n",
    "    print('-'*90)\n",
    "    from_dir = from_dir if from_dir.endswith('/') else from_dir + '/'\n",
    "    for subdir, _, files in scandir.walk(from_dir):\n",
    "        subdir = subdir.replace('\\\\', '/')  # windows path fix\n",
    "        subdir_split = subdir.split('/')\n",
    "        for f in files:\n",
    "            study_id = subdir_split[3]\n",
    "            print('*'*5),\n",
    "            print('Preprocessing slide {0} at {1}'.format(study_id, datetime.datetime.utcnow()))\n",
    "            svs_path = os.path.join(subdir, f)\n",
    "            if not svs_path.endswith('.svs'):\n",
    "                print('{0} is not a svs file!'.format(svs_path))\n",
    "                continue\n",
    "            slide = ops.OpenSlide(svs_path)\n",
    "            print('*'*10),\n",
    "            print('Loaded slide {0} at {1}'.format(study_id, datetime.datetime.utcnow()))\n",
    "            level = len(slide.level_dimensions)-1\n",
    "            wsi = np.asarray(slide.read_region((0, 0), level,\n",
    "                              slide.level_dimensions[level]))\n",
    "            print('*'*10),\n",
    "            print('Loaded region {0} at {1}'.format(study_id, datetime.datetime.utcnow()))\n",
    "            binary_arr = np.asarray((wsi[:, :, 0:3] < 200).astype(int)) # Get rid of opacity, threshold at 200\n",
    "            sum_arr = sumPixelsInPatch(binary_arr, int(math.ceil(\n",
    "                        float(512)/float(slide.level_downsamples[level]))))\n",
    "            densestPatches = findKDensestPatches(sum_arr, 10)\n",
    "            coords = getROICoords(densestPatches, 512)\n",
    "            if(debug): plotROIs(slide, coords)\n",
    "            for i in range(0, len(coords)):\n",
    "                coord = coords[i]\n",
    "                selected_region = slide.read_region((coord[1], coord[0]), 0, (1024, 1024))\n",
    "                if(debug):\n",
    "                    print((coord[1], coord[0]), 0, (1024, 1024))\n",
    "                    wsi_med = np.asarray(slide.read_region((0, 0), 2, slide.level_dimensions[2]))\n",
    "                    plotIntermediaryResults(sum_arr, wsi_med, selected_region)\n",
    "                    break\n",
    "                else:\n",
    "                    selected_region.save(svs_path[:-4]+'_'+str(i)+'.tiff')\n",
    "                    print('*'*15),\n",
    "                    print('Region saved as {0}'.format(svs_path[:-4]+'_'+str(i)+'.tiff'))\n",
    "            print('*'*5),\n",
    "            print('Preprocessed slide {0}'.format(study_id))\n",
    "            if(debug): break\n",
    "        if(debug): break\n",
    "    print('-'*90)\n",
    "    print('All slides in {0} have been preprocessed.'.format(from_dir))\n",
    "    print('-'*90)"
   ]
  },
  {
   "cell_type": "code",
   "execution_count": null,
   "metadata": {
    "collapsed": false
   },
   "outputs": [],
   "source": [
    "#preprocess('../example_images/train/025', True)\n",
    "preprocess('../example_images/train')\n",
    "preprocess('../example_images/val')\n",
    "preprocess('../example_images/test')"
   ]
  },
  {
   "cell_type": "code",
   "execution_count": null,
   "metadata": {
    "collapsed": true
   },
   "outputs": [],
   "source": []
  }
 ],
 "metadata": {
  "kernelspec": {
   "display_name": "Python 2",
   "language": "python",
   "name": "python2"
  },
  "language_info": {
   "codemirror_mode": {
    "name": "ipython",
    "version": 2
   },
   "file_extension": ".py",
   "mimetype": "text/x-python",
   "name": "python",
   "nbconvert_exporter": "python",
   "pygments_lexer": "ipython2",
   "version": "2.7.12"
  }
 },
 "nbformat": 4,
 "nbformat_minor": 0
}
